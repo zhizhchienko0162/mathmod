{
 "cells": [
  {
   "cell_type": "code",
   "execution_count": 81,
   "id": "spare-grenada",
   "metadata": {},
   "outputs": [],
   "source": [
    "from tkinter import *\n",
    "from numpy import pi, cos, sin"
   ]
  },
  {
   "cell_type": "code",
   "execution_count": 82,
   "id": "aerial-extension",
   "metadata": {},
   "outputs": [],
   "source": [
    "def tree(c, n, x0, y0, length, base_angle, angle):\n",
    "    x1 = x0 + (int)(length * cos(base_angle))\n",
    "    y1 = y0 - (int)(length * sin(base_angle))\n",
    "    x2 = x0 + (int)(length * cos(base_angle + pi / 2))\n",
    "    y2 = y0 - (int)(length * sin(base_angle + pi / 2))\n",
    "    x3 = x1 + (int)(length * cos(base_angle + pi / 2))\n",
    "    y3 = y1 - (int)(length * sin(base_angle + pi / 2))\n",
    "    x4 = x2 + (int)(length * cos(angle) * cos(base_angle + angle))\n",
    "    y4 = y2 - (int)(length * cos(angle) * sin(base_angle + angle))\n",
    "\n",
    "    c.create_line(x0, y0, x1, y1)\n",
    "    c.create_line(x0, y0, x2, y2)\n",
    "    c.create_line(x2, y2, x3, y3)\n",
    "    c.create_line(x1, y1, x3, y3)\n",
    "\n",
    "    if n > 0:\n",
    "        left_base_angle = base_angle + angle\n",
    "        left_length = length * cos(angle)\n",
    "        \n",
    "        tree(c, n - 1, x2, y2, left_length, left_base_angle, angle)\n",
    "        \n",
    "        right_base_angle = base_angle - pi / 2 + angle\n",
    "        right_length = length * sin(angle)\n",
    "\n",
    "        tree(c, n - 1, x4, y4, right_length, right_base_angle, angle)"
   ]
  },
  {
   "cell_type": "code",
   "execution_count": 83,
   "id": "realistic-mayor",
   "metadata": {},
   "outputs": [],
   "source": [
    "root = Tk()\n",
    "c = Canvas(root, width=700, height=700, bg='white')\n",
    "c.pack()"
   ]
  },
  {
   "cell_type": "code",
   "execution_count": 84,
   "id": "sharp-force",
   "metadata": {},
   "outputs": [],
   "source": [
    "tree(c, 10, 300, 500, 100, 0, pi / 4)\n",
    "root.mainloop()\n",
    "Kernel->Reastart & RunAll"
   ]
  }
 ],
 "metadata": {
  "kernelspec": {
   "display_name": "Python 3",
   "language": "python",
   "name": "python3"
  },
  "language_info": {
   "codemirror_mode": {
    "name": "ipython",
    "version": 3
   },
   "file_extension": ".py",
   "mimetype": "text/x-python",
   "name": "python",
   "nbconvert_exporter": "python",
   "pygments_lexer": "ipython3",
   "version": "3.9.1"
  }
 },
 "nbformat": 4,
 "nbformat_minor": 5
}
