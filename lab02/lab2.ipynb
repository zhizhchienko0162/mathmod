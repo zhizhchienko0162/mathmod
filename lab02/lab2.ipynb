{
 "cells": [
  {
   "cell_type": "code",
   "execution_count": null,
   "id": "political-survivor",
   "metadata": {},
   "outputs": [],
   "source": [
    "import numpy as np\n",
    "import matplotlib.pyplot as plt\n",
    "from scipy.integrate import odeint"
   ]
  },
  {
   "cell_type": "markdown",
   "id": "limiting-democrat",
   "metadata": {},
   "source": [
    "**Объявление расстояния и разницы скоростей для варианта 12**"
   ]
  },
  {
   "cell_type": "code",
   "execution_count": null,
   "id": "constitutional-approach",
   "metadata": {},
   "outputs": [],
   "source": [
    "k = 5.9\n",
    "n = 1.9\n",
    "fi = np.pi / 3"
   ]
  },
  {
   "cell_type": "markdown",
   "id": "natural-trace",
   "metadata": {},
   "source": [
    "**Объявление функции, описывающей движение катера**"
   ]
  },
  {
   "cell_type": "code",
   "execution_count": null,
   "id": "exclusive-lesbian",
   "metadata": {},
   "outputs": [],
   "source": [
    "def f(r, theta):\n",
    "    return r / np.sqrt(n**2 - 1)"
   ]
  },
  {
   "cell_type": "markdown",
   "id": "hindu-venue",
   "metadata": {},
   "source": [
    "**Объявление функции, описывающей движение катера по прямой**"
   ]
  },
  {
   "cell_type": "code",
   "execution_count": null,
   "id": "alone-milan",
   "metadata": {},
   "outputs": [],
   "source": [
    "def f2(t):\n",
    "    return np.tan(theta0) * t"
   ]
  },
  {
   "cell_type": "markdown",
   "id": "sought-willow",
   "metadata": {},
   "source": [
    "**Объявление функции, описывающей движение лодки**"
   ]
  },
  {
   "cell_type": "code",
   "execution_count": null,
   "id": "placed-kitchen",
   "metadata": {},
   "outputs": [],
   "source": [
    "def f3(t):\n",
    "    return np.tan(fi) * t"
   ]
  },
  {
   "cell_type": "code",
   "execution_count": null,
   "id": "provincial-driver",
   "metadata": {},
   "outputs": [],
   "source": [
    "r0 = k / (n + 1)\n",
    "theta0 = 0\n",
    "theta = np.arange(theta0, np.pi * 2, 0.01)\n",
    "t1 = np.arange(k, r0, -0.01)\n",
    "t2 = np.arange(0, 1000, 1)"
   ]
  },
  {
   "cell_type": "code",
   "execution_count": null,
   "id": "growing-sociology",
   "metadata": {},
   "outputs": [],
   "source": [
    "r = odeint(f, r0, theta)"
   ]
  },
  {
   "cell_type": "code",
   "execution_count": null,
   "id": "indirect-instrument",
   "metadata": {},
   "outputs": [],
   "source": [
    "r_1 = np.sqrt(t1**2 + f2(t1)**2)\n",
    "t_1 = np.arctan2(f2(t1), t1)\n",
    "\n",
    "r_2 = np.sqrt(t2**2 + f3(t2)**2)\n",
    "t_2 = np.arctan2(f3(t2), t2)"
   ]
  },
  {
   "cell_type": "markdown",
   "id": "dutch-module",
   "metadata": {},
   "source": [
    "**Отображение графика для первого случая**"
   ]
  },
  {
   "cell_type": "code",
   "execution_count": null,
   "id": "united-trance",
   "metadata": {
    "scrolled": true
   },
   "outputs": [],
   "source": [
    "plt.polar(t_1, r_1, 'g')\n",
    "plt.polar(t_2[:30], r_2[:30], 'b')\n",
    "plt.polar(theta, r, 'g')\n",
    "plt.savefig(\"image/fig1\", dpi = 500)"
   ]
  },
  {
   "cell_type": "code",
   "execution_count": null,
   "id": "changed-testing",
   "metadata": {},
   "outputs": [],
   "source": [
    "r0 = k / (n - 1)\n",
    "theta0 = -np.pi\n",
    "theta = np.arange(theta0, np.pi * 2, 0.01)\n",
    "t1 = np.arange(-k, -r0, 0.01)"
   ]
  },
  {
   "cell_type": "code",
   "execution_count": null,
   "id": "secondary-peripheral",
   "metadata": {},
   "outputs": [],
   "source": [
    "r = odeint(f, r0, theta)"
   ]
  },
  {
   "cell_type": "code",
   "execution_count": null,
   "id": "improved-iraqi",
   "metadata": {},
   "outputs": [],
   "source": [
    "r_1 = np.sqrt(t1**2 + f2(t1)**2)\n",
    "t_1 = np.arctan2(f2(t1), t1)"
   ]
  },
  {
   "cell_type": "markdown",
   "id": "unsigned-renewal",
   "metadata": {},
   "source": [
    "**Отображение графика для второго случая**"
   ]
  },
  {
   "cell_type": "code",
   "execution_count": null,
   "id": "another-ready",
   "metadata": {},
   "outputs": [],
   "source": [
    "plt.polar(t_1, r_1, 'g')\n",
    "plt.polar(t_2, r_2, 'b')\n",
    "plt.polar(theta, r, 'g')\n",
    "plt.savefig(\"image/fig2\", dpi = 500)"
   ]
  },
  {
   "cell_type": "code",
   "execution_count": null,
   "id": "egyptian-comparative",
   "metadata": {},
   "outputs": [],
   "source": []
  }
 ],
 "metadata": {
  "kernelspec": {
   "display_name": "Python 3",
   "language": "python",
   "name": "python3"
  },
  "language_info": {
   "codemirror_mode": {
    "name": "ipython",
    "version": 3
   },
   "file_extension": ".py",
   "mimetype": "text/x-python",
   "name": "python",
   "nbconvert_exporter": "python",
   "pygments_lexer": "ipython3",
   "version": "3.8.6"
  }
 },
 "nbformat": 4,
 "nbformat_minor": 5
}
